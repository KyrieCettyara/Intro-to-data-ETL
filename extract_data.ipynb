{
 "cells": [
  {
   "cell_type": "code",
   "execution_count": 1,
   "metadata": {},
   "outputs": [],
   "source": [
    "import pandas as pd\n",
    "import psycopg2"
   ]
  },
  {
   "cell_type": "markdown",
   "metadata": {},
   "source": [
    "Get data from Amazon Sales Data Database Docker Version"
   ]
  },
  {
   "cell_type": "code",
   "execution_count": 2,
   "metadata": {},
   "outputs": [],
   "source": [
    "DB_NAME = 'etl_db'\n",
    "DB_USER = 'postgres'\n",
    "DB_PASSWORD = 'password123'\n",
    "DB_HOST = 'localhost'\n",
    "DB_PORT ='5433'"
   ]
  },
  {
   "cell_type": "code",
   "execution_count": 4,
   "metadata": {},
   "outputs": [
    {
     "name": "stderr",
     "output_type": "stream",
     "text": [
      "C:\\Users\\kyrie\\AppData\\Local\\Temp\\ipykernel_11508\\713730941.py:11: UserWarning: pandas only supports SQLAlchemy connectable (engine/connection) or database string URI or sqlite3 DBAPI2 connection. Other DBAPI2 objects are not tested. Please consider using SQLAlchemy.\n",
      "  df = pd.read_sql(query, conn)\n"
     ]
    }
   ],
   "source": [
    "conn = psycopg2.connect(\n",
    "    dbname=DB_NAME,\n",
    "    user=DB_USER,\n",
    "    password=DB_PASSWORD,\n",
    "    host=DB_HOST,\n",
    "    port=DB_PORT\n",
    ")\n",
    "\n",
    "query = \"SELECT * FROM amazon_sales_data\"\n",
    "\n",
    "df = pd.read_sql(query, conn)\n",
    "\n",
    "conn.close()"
   ]
  },
  {
   "cell_type": "markdown",
   "metadata": {},
   "source": [
    "Convert data menjadi CSV"
   ]
  },
  {
   "cell_type": "code",
   "execution_count": 8,
   "metadata": {},
   "outputs": [],
   "source": [
    "df.to_csv('data/raw/amazon_sales_data.csv', index=False)"
   ]
  },
  {
   "cell_type": "code",
   "execution_count": 3,
   "metadata": {},
   "outputs": [],
   "source": [
    "import pandas as pd"
   ]
  },
  {
   "cell_type": "code",
   "execution_count": 5,
   "metadata": {},
   "outputs": [
    {
     "name": "stdout",
     "output_type": "stream",
     "text": [
      "Tabel SALES memiliki 100892 baris dan 10 kolom\n"
     ]
    }
   ],
   "source": [
    "sales_data = pd.read_csv('data/raw/amazon_sales_data.csv')\n",
    "sales_data_rows = sales_data.shape[0]\n",
    "sales_data_cols = sales_data.shape[1]\n",
    "print(f'Tabel SALES memiliki {sales_data_rows} baris dan {sales_data_cols} kolom')"
   ]
  },
  {
   "cell_type": "code",
   "execution_count": 6,
   "metadata": {},
   "outputs": [
    {
     "name": "stdout",
     "output_type": "stream",
     "text": [
      "Kolom name memiliki tipe data object\n",
      "Kolom main_category memiliki tipe data object\n",
      "Kolom sub_category memiliki tipe data object\n",
      "Kolom image memiliki tipe data object\n",
      "Kolom link memiliki tipe data object\n",
      "Kolom ratings memiliki tipe data object\n",
      "Kolom no_of_ratings memiliki tipe data object\n",
      "Kolom discount_price memiliki tipe data object\n",
      "Kolom actual_price memiliki tipe data object\n",
      "Kolom Unnamed: 0 memiliki tipe data float64\n"
     ]
    }
   ],
   "source": [
    "cols = sales_data.columns\n",
    "\n",
    "for col in cols:\n",
    "    print(f\"Kolom {col} memiliki tipe data {sales_data[col].dtypes}\")"
   ]
  },
  {
   "cell_type": "code",
   "execution_count": 10,
   "metadata": {},
   "outputs": [
    {
     "name": "stdout",
     "output_type": "stream",
     "text": [
      "Tabel amazon_sales_data memiliki 100892 baris dan 10 kolom\n"
     ]
    }
   ],
   "source": [
    "tables = [\"amazon_sales_data\"]\n",
    "\n",
    "for index, table in enumerate(tables):\n",
    "    df = pd.read_csv('data/raw/' + table + '.csv')\n",
    "\n",
    "    n_rows = df.shape[0]\n",
    "    n_cols = df.shape[1]\n",
    "\n",
    "    print(f\"Tabel {table} memiliki {n_rows} baris dan {n_cols} kolom\")\n"
   ]
  }
 ],
 "metadata": {
  "kernelspec": {
   "display_name": "base",
   "language": "python",
   "name": "python3"
  },
  "language_info": {
   "codemirror_mode": {
    "name": "ipython",
    "version": 3
   },
   "file_extension": ".py",
   "mimetype": "text/x-python",
   "name": "python",
   "nbconvert_exporter": "python",
   "pygments_lexer": "ipython3",
   "version": "3.11.4"
  }
 },
 "nbformat": 4,
 "nbformat_minor": 2
}
